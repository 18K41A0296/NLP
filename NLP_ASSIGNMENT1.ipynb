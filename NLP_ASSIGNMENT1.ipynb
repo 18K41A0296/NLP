{
  "nbformat": 4,
  "nbformat_minor": 0,
  "metadata": {
    "colab": {
      "name": "NLP-ASSIGNMENT1.ipynb",
      "provenance": []
    },
    "kernelspec": {
      "name": "python3",
      "display_name": "Python 3"
    },
    "language_info": {
      "name": "python"
    }
  },
  "cells": [
    {
      "cell_type": "markdown",
      "metadata": {
        "id": "Tai20DOuV2UQ"
      },
      "source": [
        "1.Are you fascinated by the amount of text data available on the internet? Are you looking for ways to work with this text data but aren’t sure where to begin? Machines, after all, recognize numbers, not the letters of our language. And that can be a tricky landscape to navigate in machine learning.\n",
        "\n",
        "1.Split the above paragraph into sentences\n",
        "\n"
      ]
    },
    {
      "cell_type": "code",
      "metadata": {
        "colab": {
          "base_uri": "https://localhost:8080/"
        },
        "id": "9ysEaT2bUNGj",
        "outputId": "4f86345d-6b10-4d5c-bab2-d1a3250e86f9"
      },
      "source": [
        "data = \"\"\"Are  you  fascinated  by  the  amount  of  text  data  available  on  the  internet?  Are  you looking  for  ways  to  work  with  this  text  data  but  aren’t  sure  where  to  begin? Machines, after all, recognize numbers, not the letters of our language. And that can be a tricky landscape to navigate in machine learning.\"\"\"\n",
        "\n",
        "def splitIntoSentences(data):\n",
        "  output = []\n",
        "  sentences = data.split(\"?\")\n",
        "  for sentence in sentences:\n",
        "    output.extend(sentence.split(\".\"))\n",
        "  return output\n",
        "sentences_in_data = splitIntoSentences(data)\n",
        "print(sentences_in_data)\n",
        "\n",
        "words_in_data = data.split()\n",
        "print(words_in_data)"
      ],
      "execution_count": 6,
      "outputs": [
        {
          "output_type": "stream",
          "name": "stdout",
          "text": [
            "['Are  you  fascinated  by  the  amount  of  text  data  available  on  the  internet', '  Are  you looking  for  ways  to  work  with  this  text  data  but  aren’t  sure  where  to  begin', ' Machines, after all, recognize numbers, not the letters of our language', ' And that can be a tricky landscape to navigate in machine learning', '']\n",
            "['Are', 'you', 'fascinated', 'by', 'the', 'amount', 'of', 'text', 'data', 'available', 'on', 'the', 'internet?', 'Are', 'you', 'looking', 'for', 'ways', 'to', 'work', 'with', 'this', 'text', 'data', 'but', 'aren’t', 'sure', 'where', 'to', 'begin?', 'Machines,', 'after', 'all,', 'recognize', 'numbers,', 'not', 'the', 'letters', 'of', 'our', 'language.', 'And', 'that', 'can', 'be', 'a', 'tricky', 'landscape', 'to', 'navigate', 'in', 'machine', 'learning.']\n"
          ]
        }
      ]
    },
    {
      "cell_type": "markdown",
      "metadata": {
        "id": "ty59bcPWV96m"
      },
      "source": [
        "2.Split the above paragraph into words"
      ]
    },
    {
      "cell_type": "code",
      "metadata": {
        "colab": {
          "base_uri": "https://localhost:8080/"
        },
        "id": "R2PASWxxVRVG",
        "outputId": "3a137654-95de-4315-a482-a32da2a88961"
      },
      "source": [
        "from nltk.stem import PorterStemmer\n",
        "e_words= [\"cats\", \"trouble\", \"troubling\", \"troubled\", \"having\", \"Corriendo\", \"at\", \"was\"]\n",
        "ps =PorterStemmer()\n",
        "for w in e_words:\n",
        "    rootWord=ps.stem(w)\n",
        "    print(\"Stem for {} is {}\".format(w, rootWord))"
      ],
      "execution_count": 7,
      "outputs": [
        {
          "output_type": "stream",
          "name": "stdout",
          "text": [
            "Stem for cats is cat\n",
            "Stem for trouble is troubl\n",
            "Stem for troubling is troubl\n",
            "Stem for troubled is troubl\n",
            "Stem for having is have\n",
            "Stem for Corriendo is corriendo\n",
            "Stem for at is at\n",
            "Stem for was is wa\n"
          ]
        }
      ]
    },
    {
      "cell_type": "markdown",
      "metadata": {
        "id": "G-LrHd3nV-7n"
      },
      "source": [
        "3.\tFind stem and lemma words for the given words?\n",
        "\n",
        "“cats\"\n",
        "\"trouble\"\n",
        "\"troubling\"\n",
        "\"troubled\"\n",
        "“having”\n",
        "“Corriendo”\n",
        "“at”\n",
        "“was”\n",
        "\n"
      ]
    },
    {
      "cell_type": "code",
      "metadata": {
        "colab": {
          "base_uri": "https://localhost:8080/"
        },
        "id": "jbed-ciqVSs7",
        "outputId": "6cecc068-ea3b-4ad4-e5a0-b3b520ab16b9"
      },
      "source": [
        "import nltk\n",
        "nltk.download('wordnet')\n",
        "from nltk.stem import \tWordNetLemmatizer\n",
        "wordnet_lemmatizer = WordNetLemmatizer()\n",
        "for w in e_words:\n",
        "  print(\"Lemma for {} is {}\".format(w, wordnet_lemmatizer.lemmatize(w)))"
      ],
      "execution_count": 8,
      "outputs": [
        {
          "output_type": "stream",
          "name": "stdout",
          "text": [
            "[nltk_data] Downloading package wordnet to /root/nltk_data...\n",
            "[nltk_data]   Package wordnet is already up-to-date!\n",
            "Lemma for cats is cat\n",
            "Lemma for trouble is trouble\n",
            "Lemma for troubling is troubling\n",
            "Lemma for troubled is troubled\n",
            "Lemma for having is having\n",
            "Lemma for Corriendo is Corriendo\n",
            "Lemma for at is at\n",
            "Lemma for was is wa\n"
          ]
        }
      ]
    },
    {
      "cell_type": "markdown",
      "metadata": {
        "id": "CBmmMmG4Xctn"
      },
      "source": [
        "4.\tFind stop words from the given paragraph?\n",
        "“The NLTK library is one of the oldest and most commonly used Python libraries for Natural Language Processing. NLTK supports stop word removal, and you can find the list of stop words in the corpus module. To remove stop words from a sentence, you can divide your text into words and then remove the word if it exits in the list of stop words provided by NLTK.”\n"
      ]
    },
    {
      "cell_type": "code",
      "metadata": {
        "colab": {
          "base_uri": "https://localhost:8080/"
        },
        "id": "iLJpDN8tVgXr",
        "outputId": "e0cd32ac-67c7-4e9d-ed17-7f2fcaa2f191"
      },
      "source": [
        "data = \"\"\"The NLTK library  is  one  of  the  oldest  and  most  commonly  used  Python  libraries  for Natural Language Processing. NLTK supports stop word removal, and you can find the list of stop words in the  corpus  module. To remove stop words from a sentence, you can divide your text into words and then remove the word if it exits in the list of stop words provided by NLTK.\"\"\"\n",
        "\n",
        "from nltk.corpus import stopwords\n",
        "from nltk.tokenize import word_tokenize\n",
        "nltk.download('punkt')\n",
        "nltk.download('stopwords')\n",
        "words = word_tokenize(data)\n",
        "words = [word.lower() for word in words] \n",
        "\n",
        "stepWords = []\n",
        "for word in words:\n",
        "  if word in set(stopwords.words(\"english\")):\n",
        "    stepWords.append(word)\n",
        "print(stepWords)"
      ],
      "execution_count": 11,
      "outputs": [
        {
          "output_type": "stream",
          "name": "stdout",
          "text": [
            "[nltk_data] Downloading package punkt to /root/nltk_data...\n",
            "[nltk_data]   Package punkt is already up-to-date!\n",
            "[nltk_data] Downloading package stopwords to /root/nltk_data...\n",
            "[nltk_data]   Package stopwords is already up-to-date!\n",
            "['the', 'is', 'of', 'the', 'and', 'most', 'for', 'and', 'you', 'can', 'the', 'of', 'in', 'the', 'to', 'from', 'a', 'you', 'can', 'your', 'into', 'and', 'then', 'the', 'if', 'it', 'in', 'the', 'of', 'by']\n"
          ]
        }
      ]
    },
    {
      "cell_type": "markdown",
      "metadata": {
        "id": "wrUvd-7MWCLs"
      },
      "source": [
        "5.\tFrom the above paragraph print frequency of each word using NLTK?"
      ]
    },
    {
      "cell_type": "code",
      "metadata": {
        "colab": {
          "base_uri": "https://localhost:8080/"
        },
        "id": "4DdxFnsHVnju",
        "outputId": "08a6b664-9879-4ec0-ee78-8b26979a0077"
      },
      "source": [
        "dictionary = {}\n",
        "for word in words:\n",
        "  dictionary[word] = dictionary.get(word, 0) + 1\n",
        "print(dictionary)"
      ],
      "execution_count": 12,
      "outputs": [
        {
          "output_type": "stream",
          "name": "stdout",
          "text": [
            "{'the': 6, 'nltk': 3, 'library': 1, 'is': 1, 'one': 1, 'of': 3, 'oldest': 1, 'and': 3, 'most': 1, 'commonly': 1, 'used': 1, 'python': 1, 'libraries': 1, 'for': 1, 'natural': 1, 'language': 1, 'processing': 1, '.': 3, 'supports': 1, 'stop': 4, 'word': 2, 'removal': 1, ',': 2, 'you': 2, 'can': 2, 'find': 1, 'list': 2, 'words': 4, 'in': 2, 'corpus': 1, 'module': 1, 'to': 1, 'remove': 2, 'from': 1, 'a': 1, 'sentence': 1, 'divide': 1, 'your': 1, 'text': 1, 'into': 1, 'then': 1, 'if': 1, 'it': 1, 'exits': 1, 'provided': 1, 'by': 1}\n"
          ]
        }
      ]
    }
  ]
}